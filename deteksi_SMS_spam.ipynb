{
  "cells": [
    {
      "cell_type": "markdown",
      "metadata": {
        "id": "view-in-github",
        "colab_type": "text"
      },
      "source": [
        "<a href=\"https://colab.research.google.com/github/fatuunreal/nlp-fatu-andi/blob/main/deteksi_SMS_spam.ipynb\" target=\"_parent\"><img src=\"https://colab.research.google.com/assets/colab-badge.svg\" alt=\"Open In Colab\"/></a>"
      ]
    },
    {
      "cell_type": "markdown",
      "source": [
        "# PEMPROSESAN BAHASA ALAMI BERBASIS TEKS (NLP) ~ A11.4617\n",
        "## Oleh : FATU RAHMAT (A11.2022.1481) & ANDI LAKSONO (A11.2022.14839)\n",
        "#Deteksi Spam"
      ],
      "metadata": {
        "id": "XvJOjTosPAep"
      }
    },
    {
      "cell_type": "markdown",
      "metadata": {
        "id": "AsjCmporLPSC"
      },
      "source": [
        "## Load Library"
      ]
    },
    {
      "cell_type": "code",
      "execution_count": 13,
      "metadata": {
        "id": "ZkGSj8TyLPSN"
      },
      "outputs": [],
      "source": [
        "import numpy as np\n",
        "import pandas as pd\n",
        "import matplotlib.pyplot as plt"
      ]
    },
    {
      "cell_type": "code",
      "execution_count": 14,
      "metadata": {
        "colab": {
          "base_uri": "https://localhost:8080/"
        },
        "id": "LBzZaCChLPSR",
        "outputId": "5a7b0513-34a2-4b84-d75c-f0549cc2d8db"
      },
      "outputs": [
        {
          "output_type": "stream",
          "name": "stderr",
          "text": [
            "[nltk_data] Downloading package stopwords to /root/nltk_data...\n",
            "[nltk_data]   Package stopwords is already up-to-date!\n"
          ]
        },
        {
          "output_type": "execute_result",
          "data": {
            "text/plain": [
              "True"
            ]
          },
          "metadata": {},
          "execution_count": 14
        }
      ],
      "source": [
        "import nltk\n",
        "nltk.download('stopwords')"
      ]
    },
    {
      "cell_type": "markdown",
      "metadata": {
        "id": "RDg8QvJzLPSU"
      },
      "source": [
        "## load dataset"
      ]
    },
    {
      "cell_type": "code",
      "execution_count": 15,
      "metadata": {
        "colab": {
          "base_uri": "https://localhost:8080/",
          "height": 206
        },
        "id": "BX5GmSwXLPSU",
        "outputId": "f465b1e3-b281-49b3-ac65-d82a750ae4f9"
      },
      "outputs": [
        {
          "output_type": "execute_result",
          "data": {
            "text/plain": [
              "  Kategori                                              Pesan\n",
              "0     spam  Secara alami tak tertahankan identitas perusah...\n",
              "1     spam  Fanny Gunslinger Perdagangan Saham adalah Merr...\n",
              "2     spam  Rumah -rumah baru yang luar biasa menjadi muda...\n",
              "3     spam  4 Permintaan Khusus Pencetakan Warna Informasi...\n",
              "4     spam  Jangan punya uang, dapatkan CD perangkat lunak..."
            ],
            "text/html": [
              "\n",
              "  <div id=\"df-e272e45d-d45d-4a99-a4f5-f3301c7adf1d\" class=\"colab-df-container\">\n",
              "    <div>\n",
              "<style scoped>\n",
              "    .dataframe tbody tr th:only-of-type {\n",
              "        vertical-align: middle;\n",
              "    }\n",
              "\n",
              "    .dataframe tbody tr th {\n",
              "        vertical-align: top;\n",
              "    }\n",
              "\n",
              "    .dataframe thead th {\n",
              "        text-align: right;\n",
              "    }\n",
              "</style>\n",
              "<table border=\"1\" class=\"dataframe\">\n",
              "  <thead>\n",
              "    <tr style=\"text-align: right;\">\n",
              "      <th></th>\n",
              "      <th>Kategori</th>\n",
              "      <th>Pesan</th>\n",
              "    </tr>\n",
              "  </thead>\n",
              "  <tbody>\n",
              "    <tr>\n",
              "      <th>0</th>\n",
              "      <td>spam</td>\n",
              "      <td>Secara alami tak tertahankan identitas perusah...</td>\n",
              "    </tr>\n",
              "    <tr>\n",
              "      <th>1</th>\n",
              "      <td>spam</td>\n",
              "      <td>Fanny Gunslinger Perdagangan Saham adalah Merr...</td>\n",
              "    </tr>\n",
              "    <tr>\n",
              "      <th>2</th>\n",
              "      <td>spam</td>\n",
              "      <td>Rumah -rumah baru yang luar biasa menjadi muda...</td>\n",
              "    </tr>\n",
              "    <tr>\n",
              "      <th>3</th>\n",
              "      <td>spam</td>\n",
              "      <td>4 Permintaan Khusus Pencetakan Warna Informasi...</td>\n",
              "    </tr>\n",
              "    <tr>\n",
              "      <th>4</th>\n",
              "      <td>spam</td>\n",
              "      <td>Jangan punya uang, dapatkan CD perangkat lunak...</td>\n",
              "    </tr>\n",
              "  </tbody>\n",
              "</table>\n",
              "</div>\n",
              "    <div class=\"colab-df-buttons\">\n",
              "\n",
              "  <div class=\"colab-df-container\">\n",
              "    <button class=\"colab-df-convert\" onclick=\"convertToInteractive('df-e272e45d-d45d-4a99-a4f5-f3301c7adf1d')\"\n",
              "            title=\"Convert this dataframe to an interactive table.\"\n",
              "            style=\"display:none;\">\n",
              "\n",
              "  <svg xmlns=\"http://www.w3.org/2000/svg\" height=\"24px\" viewBox=\"0 -960 960 960\">\n",
              "    <path d=\"M120-120v-720h720v720H120Zm60-500h600v-160H180v160Zm220 220h160v-160H400v160Zm0 220h160v-160H400v160ZM180-400h160v-160H180v160Zm440 0h160v-160H620v160ZM180-180h160v-160H180v160Zm440 0h160v-160H620v160Z\"/>\n",
              "  </svg>\n",
              "    </button>\n",
              "\n",
              "  <style>\n",
              "    .colab-df-container {\n",
              "      display:flex;\n",
              "      gap: 12px;\n",
              "    }\n",
              "\n",
              "    .colab-df-convert {\n",
              "      background-color: #E8F0FE;\n",
              "      border: none;\n",
              "      border-radius: 50%;\n",
              "      cursor: pointer;\n",
              "      display: none;\n",
              "      fill: #1967D2;\n",
              "      height: 32px;\n",
              "      padding: 0 0 0 0;\n",
              "      width: 32px;\n",
              "    }\n",
              "\n",
              "    .colab-df-convert:hover {\n",
              "      background-color: #E2EBFA;\n",
              "      box-shadow: 0px 1px 2px rgba(60, 64, 67, 0.3), 0px 1px 3px 1px rgba(60, 64, 67, 0.15);\n",
              "      fill: #174EA6;\n",
              "    }\n",
              "\n",
              "    .colab-df-buttons div {\n",
              "      margin-bottom: 4px;\n",
              "    }\n",
              "\n",
              "    [theme=dark] .colab-df-convert {\n",
              "      background-color: #3B4455;\n",
              "      fill: #D2E3FC;\n",
              "    }\n",
              "\n",
              "    [theme=dark] .colab-df-convert:hover {\n",
              "      background-color: #434B5C;\n",
              "      box-shadow: 0px 1px 3px 1px rgba(0, 0, 0, 0.15);\n",
              "      filter: drop-shadow(0px 1px 2px rgba(0, 0, 0, 0.3));\n",
              "      fill: #FFFFFF;\n",
              "    }\n",
              "  </style>\n",
              "\n",
              "    <script>\n",
              "      const buttonEl =\n",
              "        document.querySelector('#df-e272e45d-d45d-4a99-a4f5-f3301c7adf1d button.colab-df-convert');\n",
              "      buttonEl.style.display =\n",
              "        google.colab.kernel.accessAllowed ? 'block' : 'none';\n",
              "\n",
              "      async function convertToInteractive(key) {\n",
              "        const element = document.querySelector('#df-e272e45d-d45d-4a99-a4f5-f3301c7adf1d');\n",
              "        const dataTable =\n",
              "          await google.colab.kernel.invokeFunction('convertToInteractive',\n",
              "                                                    [key], {});\n",
              "        if (!dataTable) return;\n",
              "\n",
              "        const docLinkHtml = 'Like what you see? Visit the ' +\n",
              "          '<a target=\"_blank\" href=https://colab.research.google.com/notebooks/data_table.ipynb>data table notebook</a>'\n",
              "          + ' to learn more about interactive tables.';\n",
              "        element.innerHTML = '';\n",
              "        dataTable['output_type'] = 'display_data';\n",
              "        await google.colab.output.renderOutput(dataTable, element);\n",
              "        const docLink = document.createElement('div');\n",
              "        docLink.innerHTML = docLinkHtml;\n",
              "        element.appendChild(docLink);\n",
              "      }\n",
              "    </script>\n",
              "  </div>\n",
              "\n",
              "\n",
              "    <div id=\"df-e72eb36e-fbff-44f4-b6f2-8b61c6decc4f\">\n",
              "      <button class=\"colab-df-quickchart\" onclick=\"quickchart('df-e72eb36e-fbff-44f4-b6f2-8b61c6decc4f')\"\n",
              "                title=\"Suggest charts\"\n",
              "                style=\"display:none;\">\n",
              "\n",
              "<svg xmlns=\"http://www.w3.org/2000/svg\" height=\"24px\"viewBox=\"0 0 24 24\"\n",
              "     width=\"24px\">\n",
              "    <g>\n",
              "        <path d=\"M19 3H5c-1.1 0-2 .9-2 2v14c0 1.1.9 2 2 2h14c1.1 0 2-.9 2-2V5c0-1.1-.9-2-2-2zM9 17H7v-7h2v7zm4 0h-2V7h2v10zm4 0h-2v-4h2v4z\"/>\n",
              "    </g>\n",
              "</svg>\n",
              "      </button>\n",
              "\n",
              "<style>\n",
              "  .colab-df-quickchart {\n",
              "      --bg-color: #E8F0FE;\n",
              "      --fill-color: #1967D2;\n",
              "      --hover-bg-color: #E2EBFA;\n",
              "      --hover-fill-color: #174EA6;\n",
              "      --disabled-fill-color: #AAA;\n",
              "      --disabled-bg-color: #DDD;\n",
              "  }\n",
              "\n",
              "  [theme=dark] .colab-df-quickchart {\n",
              "      --bg-color: #3B4455;\n",
              "      --fill-color: #D2E3FC;\n",
              "      --hover-bg-color: #434B5C;\n",
              "      --hover-fill-color: #FFFFFF;\n",
              "      --disabled-bg-color: #3B4455;\n",
              "      --disabled-fill-color: #666;\n",
              "  }\n",
              "\n",
              "  .colab-df-quickchart {\n",
              "    background-color: var(--bg-color);\n",
              "    border: none;\n",
              "    border-radius: 50%;\n",
              "    cursor: pointer;\n",
              "    display: none;\n",
              "    fill: var(--fill-color);\n",
              "    height: 32px;\n",
              "    padding: 0;\n",
              "    width: 32px;\n",
              "  }\n",
              "\n",
              "  .colab-df-quickchart:hover {\n",
              "    background-color: var(--hover-bg-color);\n",
              "    box-shadow: 0 1px 2px rgba(60, 64, 67, 0.3), 0 1px 3px 1px rgba(60, 64, 67, 0.15);\n",
              "    fill: var(--button-hover-fill-color);\n",
              "  }\n",
              "\n",
              "  .colab-df-quickchart-complete:disabled,\n",
              "  .colab-df-quickchart-complete:disabled:hover {\n",
              "    background-color: var(--disabled-bg-color);\n",
              "    fill: var(--disabled-fill-color);\n",
              "    box-shadow: none;\n",
              "  }\n",
              "\n",
              "  .colab-df-spinner {\n",
              "    border: 2px solid var(--fill-color);\n",
              "    border-color: transparent;\n",
              "    border-bottom-color: var(--fill-color);\n",
              "    animation:\n",
              "      spin 1s steps(1) infinite;\n",
              "  }\n",
              "\n",
              "  @keyframes spin {\n",
              "    0% {\n",
              "      border-color: transparent;\n",
              "      border-bottom-color: var(--fill-color);\n",
              "      border-left-color: var(--fill-color);\n",
              "    }\n",
              "    20% {\n",
              "      border-color: transparent;\n",
              "      border-left-color: var(--fill-color);\n",
              "      border-top-color: var(--fill-color);\n",
              "    }\n",
              "    30% {\n",
              "      border-color: transparent;\n",
              "      border-left-color: var(--fill-color);\n",
              "      border-top-color: var(--fill-color);\n",
              "      border-right-color: var(--fill-color);\n",
              "    }\n",
              "    40% {\n",
              "      border-color: transparent;\n",
              "      border-right-color: var(--fill-color);\n",
              "      border-top-color: var(--fill-color);\n",
              "    }\n",
              "    60% {\n",
              "      border-color: transparent;\n",
              "      border-right-color: var(--fill-color);\n",
              "    }\n",
              "    80% {\n",
              "      border-color: transparent;\n",
              "      border-right-color: var(--fill-color);\n",
              "      border-bottom-color: var(--fill-color);\n",
              "    }\n",
              "    90% {\n",
              "      border-color: transparent;\n",
              "      border-bottom-color: var(--fill-color);\n",
              "    }\n",
              "  }\n",
              "</style>\n",
              "\n",
              "      <script>\n",
              "        async function quickchart(key) {\n",
              "          const quickchartButtonEl =\n",
              "            document.querySelector('#' + key + ' button');\n",
              "          quickchartButtonEl.disabled = true;  // To prevent multiple clicks.\n",
              "          quickchartButtonEl.classList.add('colab-df-spinner');\n",
              "          try {\n",
              "            const charts = await google.colab.kernel.invokeFunction(\n",
              "                'suggestCharts', [key], {});\n",
              "          } catch (error) {\n",
              "            console.error('Error during call to suggestCharts:', error);\n",
              "          }\n",
              "          quickchartButtonEl.classList.remove('colab-df-spinner');\n",
              "          quickchartButtonEl.classList.add('colab-df-quickchart-complete');\n",
              "        }\n",
              "        (() => {\n",
              "          let quickchartButtonEl =\n",
              "            document.querySelector('#df-e72eb36e-fbff-44f4-b6f2-8b61c6decc4f button');\n",
              "          quickchartButtonEl.style.display =\n",
              "            google.colab.kernel.accessAllowed ? 'block' : 'none';\n",
              "        })();\n",
              "      </script>\n",
              "    </div>\n",
              "\n",
              "    </div>\n",
              "  </div>\n"
            ],
            "application/vnd.google.colaboratory.intrinsic+json": {
              "type": "dataframe",
              "variable_name": "data",
              "summary": "{\n  \"name\": \"data\",\n  \"rows\": 2636,\n  \"fields\": [\n    {\n      \"column\": \"Kategori\",\n      \"properties\": {\n        \"dtype\": \"category\",\n        \"num_unique_values\": 2,\n        \"samples\": [\n          \"ham\",\n          \"spam\"\n        ],\n        \"semantic_type\": \"\",\n        \"description\": \"\"\n      }\n    },\n    {\n      \"column\": \"Pesan\",\n      \"properties\": {\n        \"dtype\": \"string\",\n        \"num_unique_values\": 2620,\n        \"samples\": [\n          \"Kunjungan Norwegia: Agenda Penelitian sayang, saya ingin membuat diri saya tersedia untuk beberapa pertemuan di kantor Oslo selama kunjungan saya pada hari Jumat, Senin dan Selasa. Saya percaya Bjarne akan tersedia pada hari Selasa, jika bukan hari Senin, dan karenanya ingin mengatur pertemuan perdagangan dan originasi untuk Selasa (sehingga ia dapat hadir) dan mungkin melalui masalah Energydesk pada hari Senin. Saya juga akan memberikan presentasi, mungkin pada hari Senin. Perdagangan: Kurva Opsi & Volatilitas Akan berguna untuk bertemu dengan para pedagang bersama dengan tim Bjarne untuk membantu kami meningkatkan pemahaman kami tentang masalah penilaian / lindung nilai yang dihadapi dalam opsi perdagangan (baik Eropa maupun Asia). Saya berharap untuk membahas kurva VOL dan akan membawa contoh dari pekerjaan terbaru yang dilakukan untuk meja listrik Inggris di mana generator kurva volatilitas bulanan dan kurva volatilitas setengah - jam ke depan telah dikembangkan. Originasi: Setiap masalah yang timbul dalam penawaran kompleks (mis. Reservoir kering, kontrak pengguna - waktu) dll. Mungkin dengan Didrik. Energydesk. com untuk mendukung upaya On - Going untuk memastikan keakuratan EnergyDesk. Com Systems, saya berharap dapat membantu James Stephen Nail - turun alasan beberapa perbedaan antara EnergyDesk. Com Valuation and the Oslo Book (untuk ini saya berharap dapat bertemu dengan Trond). Pilihan eksotis: Jika semuanya berjalan dengan lancar, saya berencana untuk menggulung model Asia baru yang juga harus membantu kita dalam meningkatkan kurva volatilitas listrik kita. Saya akan berada di kantor Oslo mulai Jumat sore, dan tersedia sepanjang hari Senin dan Selasa. Saya akan menginap di Grand Hotel dan mungkin dapat dihubungi di ponsel saya: 07747 86813. berharap dapat bertemu dengan Anda segera! Salam, Anjam x 35383 hal. S . Saya akan dapat dihubungi di ponsel saya untuk setiap pertanyaan mendesak dari pelanggan London: 07747 868131, atau dapat dijangkau melalui Catherine / Maret (x 2570)\",\n          \"mengajar dan menjadi kaya apakah Anda ingin mengajar dan menjadi kaya? Jika Anda seorang komunikator yang termotivasi dan memenuhi syarat, saya secara pribadi akan melatih Anda untuk melakukan 3 20 menit presentasi per hari untuk memenuhi syarat prospek yang dapat saya berikan kepada Anda. Kami akan menunjukkan kepada Anda bahwa Anda dapat menghasilkan $ 400 sehari paruh waktu menggunakan sistem ini. Atau, jika Anda memiliki 20 jam per minggu, seperti dalam kasus saya, Anda dapat menghasilkan lebih dari $ 10.000 per minggu, seperti yang saya hasilkan saat ini (dapat diverifikasi, omong -omong). Ditambah lagi, saya akan memperkenalkan Anda kepada mentor saya yang menghasilkan lebih dari $ 1, 000, 000 per tahun. Banyak yang disebut, hanya sedikit yang dipilih. Peluang ini akan terbatas pada satu individu yang memenuhi syarat per negara. Lakukan panggilan dan hubungi nomor pesan yang direkam 24 jam di bawah ini. Kami akan mengambil sebanyak atau sesedikit waktu yang Anda butuhkan untuk melihat apakah program ini tepat untuk Anda. * * * 801 - 397 - 9010 * * * Harap jangan melakukan panggilan ini kecuali Anda benar -benar termotivasi uang dan memenuhi syarat. Saya membutuhkan orang yang sudah memiliki keterampilan orang dan telah menghasilkan banyak uang di masa lalu atau siap menghasilkan sejumlah besar uang di masa depan. Menantikan panggilan Anda. * * * 801 - 397 - 9010 * * * * untuk dikeluarkan dari database ini: SecCo 44 @ puitis. com 9059 DMELO - 270 BMBLL 5\"\n        ],\n        \"semantic_type\": \"\",\n        \"description\": \"\"\n      }\n    }\n  ]\n}"
            }
          },
          "metadata": {},
          "execution_count": 15
        }
      ],
      "source": [
        "data = pd.read_csv('spam.csv')\n",
        "data.head()"
      ]
    },
    {
      "cell_type": "code",
      "execution_count": 16,
      "metadata": {
        "colab": {
          "base_uri": "https://localhost:8080/"
        },
        "id": "gHRCbs82LPSW",
        "outputId": "993a772e-3cd4-4972-f04f-b0a4a5d79dee"
      },
      "outputs": [
        {
          "output_type": "stream",
          "name": "stdout",
          "text": [
            "<class 'pandas.core.frame.DataFrame'>\n",
            "RangeIndex: 2636 entries, 0 to 2635\n",
            "Data columns (total 2 columns):\n",
            " #   Column    Non-Null Count  Dtype \n",
            "---  ------    --------------  ----- \n",
            " 0   Kategori  2636 non-null   object\n",
            " 1   Pesan     2636 non-null   object\n",
            "dtypes: object(2)\n",
            "memory usage: 41.3+ KB\n"
          ]
        }
      ],
      "source": [
        "data.info()"
      ]
    },
    {
      "cell_type": "code",
      "execution_count": 17,
      "metadata": {
        "colab": {
          "base_uri": "https://localhost:8080/"
        },
        "id": "CHgPgHQtLPSX",
        "outputId": "cea7a132-3435-4f68-874f-18efc2274377"
      },
      "outputs": [
        {
          "output_type": "execute_result",
          "data": {
            "text/plain": [
              "array(['spam', 'ham'], dtype=object)"
            ]
          },
          "metadata": {},
          "execution_count": 17
        }
      ],
      "source": [
        "data['Kategori'].unique()"
      ]
    },
    {
      "cell_type": "code",
      "execution_count": 18,
      "metadata": {
        "id": "MY4oCutrLPSY"
      },
      "outputs": [],
      "source": [
        "Kategori = {'spam':0, 'ham':1}\n",
        "\n",
        "data['Kategori'] = data['Kategori'].map(Kategori)"
      ]
    },
    {
      "cell_type": "code",
      "execution_count": 19,
      "metadata": {
        "colab": {
          "base_uri": "https://localhost:8080/"
        },
        "id": "krtCHk26LPSZ",
        "outputId": "f2efbcab-eaa8-47f4-85f2-cf985aac7957"
      },
      "outputs": [
        {
          "output_type": "stream",
          "name": "stdout",
          "text": [
            "<class 'pandas.core.frame.DataFrame'>\n",
            "RangeIndex: 2636 entries, 0 to 2635\n",
            "Data columns (total 2 columns):\n",
            " #   Column    Non-Null Count  Dtype \n",
            "---  ------    --------------  ----- \n",
            " 0   Kategori  2636 non-null   int64 \n",
            " 1   Pesan     2636 non-null   object\n",
            "dtypes: int64(1), object(1)\n",
            "memory usage: 41.3+ KB\n"
          ]
        }
      ],
      "source": [
        "data.info()"
      ]
    },
    {
      "cell_type": "code",
      "execution_count": 20,
      "metadata": {
        "id": "84_K6eUKLPSa"
      },
      "outputs": [],
      "source": [
        "data.rename(columns = {\"Kategori\": \"label\", \"Pesan\": \"teks\"}, inplace = True)"
      ]
    },
    {
      "cell_type": "code",
      "execution_count": 21,
      "metadata": {
        "colab": {
          "base_uri": "https://localhost:8080/",
          "height": 206
        },
        "id": "AdUfh2QsLPSb",
        "outputId": "8cac3554-31e1-4b3b-b930-eea159f0bd7a"
      },
      "outputs": [
        {
          "output_type": "execute_result",
          "data": {
            "text/plain": [
              "   label                                               teks\n",
              "0      0  Secara alami tak tertahankan identitas perusah...\n",
              "1      0  Fanny Gunslinger Perdagangan Saham adalah Merr...\n",
              "2      0  Rumah -rumah baru yang luar biasa menjadi muda...\n",
              "3      0  4 Permintaan Khusus Pencetakan Warna Informasi...\n",
              "4      0  Jangan punya uang, dapatkan CD perangkat lunak..."
            ],
            "text/html": [
              "\n",
              "  <div id=\"df-9e493ba4-60ac-412d-888e-df07cd3fd256\" class=\"colab-df-container\">\n",
              "    <div>\n",
              "<style scoped>\n",
              "    .dataframe tbody tr th:only-of-type {\n",
              "        vertical-align: middle;\n",
              "    }\n",
              "\n",
              "    .dataframe tbody tr th {\n",
              "        vertical-align: top;\n",
              "    }\n",
              "\n",
              "    .dataframe thead th {\n",
              "        text-align: right;\n",
              "    }\n",
              "</style>\n",
              "<table border=\"1\" class=\"dataframe\">\n",
              "  <thead>\n",
              "    <tr style=\"text-align: right;\">\n",
              "      <th></th>\n",
              "      <th>label</th>\n",
              "      <th>teks</th>\n",
              "    </tr>\n",
              "  </thead>\n",
              "  <tbody>\n",
              "    <tr>\n",
              "      <th>0</th>\n",
              "      <td>0</td>\n",
              "      <td>Secara alami tak tertahankan identitas perusah...</td>\n",
              "    </tr>\n",
              "    <tr>\n",
              "      <th>1</th>\n",
              "      <td>0</td>\n",
              "      <td>Fanny Gunslinger Perdagangan Saham adalah Merr...</td>\n",
              "    </tr>\n",
              "    <tr>\n",
              "      <th>2</th>\n",
              "      <td>0</td>\n",
              "      <td>Rumah -rumah baru yang luar biasa menjadi muda...</td>\n",
              "    </tr>\n",
              "    <tr>\n",
              "      <th>3</th>\n",
              "      <td>0</td>\n",
              "      <td>4 Permintaan Khusus Pencetakan Warna Informasi...</td>\n",
              "    </tr>\n",
              "    <tr>\n",
              "      <th>4</th>\n",
              "      <td>0</td>\n",
              "      <td>Jangan punya uang, dapatkan CD perangkat lunak...</td>\n",
              "    </tr>\n",
              "  </tbody>\n",
              "</table>\n",
              "</div>\n",
              "    <div class=\"colab-df-buttons\">\n",
              "\n",
              "  <div class=\"colab-df-container\">\n",
              "    <button class=\"colab-df-convert\" onclick=\"convertToInteractive('df-9e493ba4-60ac-412d-888e-df07cd3fd256')\"\n",
              "            title=\"Convert this dataframe to an interactive table.\"\n",
              "            style=\"display:none;\">\n",
              "\n",
              "  <svg xmlns=\"http://www.w3.org/2000/svg\" height=\"24px\" viewBox=\"0 -960 960 960\">\n",
              "    <path d=\"M120-120v-720h720v720H120Zm60-500h600v-160H180v160Zm220 220h160v-160H400v160Zm0 220h160v-160H400v160ZM180-400h160v-160H180v160Zm440 0h160v-160H620v160ZM180-180h160v-160H180v160Zm440 0h160v-160H620v160Z\"/>\n",
              "  </svg>\n",
              "    </button>\n",
              "\n",
              "  <style>\n",
              "    .colab-df-container {\n",
              "      display:flex;\n",
              "      gap: 12px;\n",
              "    }\n",
              "\n",
              "    .colab-df-convert {\n",
              "      background-color: #E8F0FE;\n",
              "      border: none;\n",
              "      border-radius: 50%;\n",
              "      cursor: pointer;\n",
              "      display: none;\n",
              "      fill: #1967D2;\n",
              "      height: 32px;\n",
              "      padding: 0 0 0 0;\n",
              "      width: 32px;\n",
              "    }\n",
              "\n",
              "    .colab-df-convert:hover {\n",
              "      background-color: #E2EBFA;\n",
              "      box-shadow: 0px 1px 2px rgba(60, 64, 67, 0.3), 0px 1px 3px 1px rgba(60, 64, 67, 0.15);\n",
              "      fill: #174EA6;\n",
              "    }\n",
              "\n",
              "    .colab-df-buttons div {\n",
              "      margin-bottom: 4px;\n",
              "    }\n",
              "\n",
              "    [theme=dark] .colab-df-convert {\n",
              "      background-color: #3B4455;\n",
              "      fill: #D2E3FC;\n",
              "    }\n",
              "\n",
              "    [theme=dark] .colab-df-convert:hover {\n",
              "      background-color: #434B5C;\n",
              "      box-shadow: 0px 1px 3px 1px rgba(0, 0, 0, 0.15);\n",
              "      filter: drop-shadow(0px 1px 2px rgba(0, 0, 0, 0.3));\n",
              "      fill: #FFFFFF;\n",
              "    }\n",
              "  </style>\n",
              "\n",
              "    <script>\n",
              "      const buttonEl =\n",
              "        document.querySelector('#df-9e493ba4-60ac-412d-888e-df07cd3fd256 button.colab-df-convert');\n",
              "      buttonEl.style.display =\n",
              "        google.colab.kernel.accessAllowed ? 'block' : 'none';\n",
              "\n",
              "      async function convertToInteractive(key) {\n",
              "        const element = document.querySelector('#df-9e493ba4-60ac-412d-888e-df07cd3fd256');\n",
              "        const dataTable =\n",
              "          await google.colab.kernel.invokeFunction('convertToInteractive',\n",
              "                                                    [key], {});\n",
              "        if (!dataTable) return;\n",
              "\n",
              "        const docLinkHtml = 'Like what you see? Visit the ' +\n",
              "          '<a target=\"_blank\" href=https://colab.research.google.com/notebooks/data_table.ipynb>data table notebook</a>'\n",
              "          + ' to learn more about interactive tables.';\n",
              "        element.innerHTML = '';\n",
              "        dataTable['output_type'] = 'display_data';\n",
              "        await google.colab.output.renderOutput(dataTable, element);\n",
              "        const docLink = document.createElement('div');\n",
              "        docLink.innerHTML = docLinkHtml;\n",
              "        element.appendChild(docLink);\n",
              "      }\n",
              "    </script>\n",
              "  </div>\n",
              "\n",
              "\n",
              "    <div id=\"df-a02f2e59-45c6-447e-a69d-f462b27a46d5\">\n",
              "      <button class=\"colab-df-quickchart\" onclick=\"quickchart('df-a02f2e59-45c6-447e-a69d-f462b27a46d5')\"\n",
              "                title=\"Suggest charts\"\n",
              "                style=\"display:none;\">\n",
              "\n",
              "<svg xmlns=\"http://www.w3.org/2000/svg\" height=\"24px\"viewBox=\"0 0 24 24\"\n",
              "     width=\"24px\">\n",
              "    <g>\n",
              "        <path d=\"M19 3H5c-1.1 0-2 .9-2 2v14c0 1.1.9 2 2 2h14c1.1 0 2-.9 2-2V5c0-1.1-.9-2-2-2zM9 17H7v-7h2v7zm4 0h-2V7h2v10zm4 0h-2v-4h2v4z\"/>\n",
              "    </g>\n",
              "</svg>\n",
              "      </button>\n",
              "\n",
              "<style>\n",
              "  .colab-df-quickchart {\n",
              "      --bg-color: #E8F0FE;\n",
              "      --fill-color: #1967D2;\n",
              "      --hover-bg-color: #E2EBFA;\n",
              "      --hover-fill-color: #174EA6;\n",
              "      --disabled-fill-color: #AAA;\n",
              "      --disabled-bg-color: #DDD;\n",
              "  }\n",
              "\n",
              "  [theme=dark] .colab-df-quickchart {\n",
              "      --bg-color: #3B4455;\n",
              "      --fill-color: #D2E3FC;\n",
              "      --hover-bg-color: #434B5C;\n",
              "      --hover-fill-color: #FFFFFF;\n",
              "      --disabled-bg-color: #3B4455;\n",
              "      --disabled-fill-color: #666;\n",
              "  }\n",
              "\n",
              "  .colab-df-quickchart {\n",
              "    background-color: var(--bg-color);\n",
              "    border: none;\n",
              "    border-radius: 50%;\n",
              "    cursor: pointer;\n",
              "    display: none;\n",
              "    fill: var(--fill-color);\n",
              "    height: 32px;\n",
              "    padding: 0;\n",
              "    width: 32px;\n",
              "  }\n",
              "\n",
              "  .colab-df-quickchart:hover {\n",
              "    background-color: var(--hover-bg-color);\n",
              "    box-shadow: 0 1px 2px rgba(60, 64, 67, 0.3), 0 1px 3px 1px rgba(60, 64, 67, 0.15);\n",
              "    fill: var(--button-hover-fill-color);\n",
              "  }\n",
              "\n",
              "  .colab-df-quickchart-complete:disabled,\n",
              "  .colab-df-quickchart-complete:disabled:hover {\n",
              "    background-color: var(--disabled-bg-color);\n",
              "    fill: var(--disabled-fill-color);\n",
              "    box-shadow: none;\n",
              "  }\n",
              "\n",
              "  .colab-df-spinner {\n",
              "    border: 2px solid var(--fill-color);\n",
              "    border-color: transparent;\n",
              "    border-bottom-color: var(--fill-color);\n",
              "    animation:\n",
              "      spin 1s steps(1) infinite;\n",
              "  }\n",
              "\n",
              "  @keyframes spin {\n",
              "    0% {\n",
              "      border-color: transparent;\n",
              "      border-bottom-color: var(--fill-color);\n",
              "      border-left-color: var(--fill-color);\n",
              "    }\n",
              "    20% {\n",
              "      border-color: transparent;\n",
              "      border-left-color: var(--fill-color);\n",
              "      border-top-color: var(--fill-color);\n",
              "    }\n",
              "    30% {\n",
              "      border-color: transparent;\n",
              "      border-left-color: var(--fill-color);\n",
              "      border-top-color: var(--fill-color);\n",
              "      border-right-color: var(--fill-color);\n",
              "    }\n",
              "    40% {\n",
              "      border-color: transparent;\n",
              "      border-right-color: var(--fill-color);\n",
              "      border-top-color: var(--fill-color);\n",
              "    }\n",
              "    60% {\n",
              "      border-color: transparent;\n",
              "      border-right-color: var(--fill-color);\n",
              "    }\n",
              "    80% {\n",
              "      border-color: transparent;\n",
              "      border-right-color: var(--fill-color);\n",
              "      border-bottom-color: var(--fill-color);\n",
              "    }\n",
              "    90% {\n",
              "      border-color: transparent;\n",
              "      border-bottom-color: var(--fill-color);\n",
              "    }\n",
              "  }\n",
              "</style>\n",
              "\n",
              "      <script>\n",
              "        async function quickchart(key) {\n",
              "          const quickchartButtonEl =\n",
              "            document.querySelector('#' + key + ' button');\n",
              "          quickchartButtonEl.disabled = true;  // To prevent multiple clicks.\n",
              "          quickchartButtonEl.classList.add('colab-df-spinner');\n",
              "          try {\n",
              "            const charts = await google.colab.kernel.invokeFunction(\n",
              "                'suggestCharts', [key], {});\n",
              "          } catch (error) {\n",
              "            console.error('Error during call to suggestCharts:', error);\n",
              "          }\n",
              "          quickchartButtonEl.classList.remove('colab-df-spinner');\n",
              "          quickchartButtonEl.classList.add('colab-df-quickchart-complete');\n",
              "        }\n",
              "        (() => {\n",
              "          let quickchartButtonEl =\n",
              "            document.querySelector('#df-a02f2e59-45c6-447e-a69d-f462b27a46d5 button');\n",
              "          quickchartButtonEl.style.display =\n",
              "            google.colab.kernel.accessAllowed ? 'block' : 'none';\n",
              "        })();\n",
              "      </script>\n",
              "    </div>\n",
              "\n",
              "    </div>\n",
              "  </div>\n"
            ],
            "application/vnd.google.colaboratory.intrinsic+json": {
              "type": "dataframe",
              "variable_name": "data",
              "summary": "{\n  \"name\": \"data\",\n  \"rows\": 2636,\n  \"fields\": [\n    {\n      \"column\": \"label\",\n      \"properties\": {\n        \"dtype\": \"number\",\n        \"std\": 0,\n        \"min\": 0,\n        \"max\": 1,\n        \"num_unique_values\": 2,\n        \"samples\": [\n          1,\n          0\n        ],\n        \"semantic_type\": \"\",\n        \"description\": \"\"\n      }\n    },\n    {\n      \"column\": \"teks\",\n      \"properties\": {\n        \"dtype\": \"string\",\n        \"num_unique_values\": 2620,\n        \"samples\": [\n          \"Kunjungan Norwegia: Agenda Penelitian sayang, saya ingin membuat diri saya tersedia untuk beberapa pertemuan di kantor Oslo selama kunjungan saya pada hari Jumat, Senin dan Selasa. Saya percaya Bjarne akan tersedia pada hari Selasa, jika bukan hari Senin, dan karenanya ingin mengatur pertemuan perdagangan dan originasi untuk Selasa (sehingga ia dapat hadir) dan mungkin melalui masalah Energydesk pada hari Senin. Saya juga akan memberikan presentasi, mungkin pada hari Senin. Perdagangan: Kurva Opsi & Volatilitas Akan berguna untuk bertemu dengan para pedagang bersama dengan tim Bjarne untuk membantu kami meningkatkan pemahaman kami tentang masalah penilaian / lindung nilai yang dihadapi dalam opsi perdagangan (baik Eropa maupun Asia). Saya berharap untuk membahas kurva VOL dan akan membawa contoh dari pekerjaan terbaru yang dilakukan untuk meja listrik Inggris di mana generator kurva volatilitas bulanan dan kurva volatilitas setengah - jam ke depan telah dikembangkan. Originasi: Setiap masalah yang timbul dalam penawaran kompleks (mis. Reservoir kering, kontrak pengguna - waktu) dll. Mungkin dengan Didrik. Energydesk. com untuk mendukung upaya On - Going untuk memastikan keakuratan EnergyDesk. Com Systems, saya berharap dapat membantu James Stephen Nail - turun alasan beberapa perbedaan antara EnergyDesk. Com Valuation and the Oslo Book (untuk ini saya berharap dapat bertemu dengan Trond). Pilihan eksotis: Jika semuanya berjalan dengan lancar, saya berencana untuk menggulung model Asia baru yang juga harus membantu kita dalam meningkatkan kurva volatilitas listrik kita. Saya akan berada di kantor Oslo mulai Jumat sore, dan tersedia sepanjang hari Senin dan Selasa. Saya akan menginap di Grand Hotel dan mungkin dapat dihubungi di ponsel saya: 07747 86813. berharap dapat bertemu dengan Anda segera! Salam, Anjam x 35383 hal. S . Saya akan dapat dihubungi di ponsel saya untuk setiap pertanyaan mendesak dari pelanggan London: 07747 868131, atau dapat dijangkau melalui Catherine / Maret (x 2570)\",\n          \"mengajar dan menjadi kaya apakah Anda ingin mengajar dan menjadi kaya? Jika Anda seorang komunikator yang termotivasi dan memenuhi syarat, saya secara pribadi akan melatih Anda untuk melakukan 3 20 menit presentasi per hari untuk memenuhi syarat prospek yang dapat saya berikan kepada Anda. Kami akan menunjukkan kepada Anda bahwa Anda dapat menghasilkan $ 400 sehari paruh waktu menggunakan sistem ini. Atau, jika Anda memiliki 20 jam per minggu, seperti dalam kasus saya, Anda dapat menghasilkan lebih dari $ 10.000 per minggu, seperti yang saya hasilkan saat ini (dapat diverifikasi, omong -omong). Ditambah lagi, saya akan memperkenalkan Anda kepada mentor saya yang menghasilkan lebih dari $ 1, 000, 000 per tahun. Banyak yang disebut, hanya sedikit yang dipilih. Peluang ini akan terbatas pada satu individu yang memenuhi syarat per negara. Lakukan panggilan dan hubungi nomor pesan yang direkam 24 jam di bawah ini. Kami akan mengambil sebanyak atau sesedikit waktu yang Anda butuhkan untuk melihat apakah program ini tepat untuk Anda. * * * 801 - 397 - 9010 * * * Harap jangan melakukan panggilan ini kecuali Anda benar -benar termotivasi uang dan memenuhi syarat. Saya membutuhkan orang yang sudah memiliki keterampilan orang dan telah menghasilkan banyak uang di masa lalu atau siap menghasilkan sejumlah besar uang di masa depan. Menantikan panggilan Anda. * * * 801 - 397 - 9010 * * * * untuk dikeluarkan dari database ini: SecCo 44 @ puitis. com 9059 DMELO - 270 BMBLL 5\"\n        ],\n        \"semantic_type\": \"\",\n        \"description\": \"\"\n      }\n    }\n  ]\n}"
            }
          },
          "metadata": {},
          "execution_count": 21
        }
      ],
      "source": [
        "data.head()"
      ]
    },
    {
      "cell_type": "markdown",
      "metadata": {
        "id": "BPAz1LN4LPSc"
      },
      "source": [
        "## text preprocessing"
      ]
    },
    {
      "cell_type": "markdown",
      "metadata": {
        "vscode": {
          "languageId": "html"
        },
        "id": "g94YLDNZLPSc"
      },
      "source": [
        "## case folding"
      ]
    },
    {
      "cell_type": "code",
      "execution_count": 22,
      "metadata": {
        "id": "1xrtuemcLPSd"
      },
      "outputs": [],
      "source": [
        "import re\n",
        "\n",
        "# membuat ungsi untuk case folding\n",
        "def casefolding(text):\n",
        "    text = text.lower()\n",
        "    text = re.sub(r'https?://\\S+|www\\.\\S+', '', text)\n",
        "    text = re.sub(r'[-+]?[0-9]+', '', text)\n",
        "    text = re.sub(r'[^\\w\\s]', '', text)\n",
        "    text = text.strip()\n",
        "    return text"
      ]
    },
    {
      "cell_type": "code",
      "execution_count": 23,
      "metadata": {
        "colab": {
          "base_uri": "https://localhost:8080/"
        },
        "id": "3o38l19MLPSd",
        "outputId": "00aa7723-b962-4e76-ed36-6b19ad08677c"
      },
      "outputs": [
        {
          "output_type": "stream",
          "name": "stdout",
          "text": [
            "raw data\t :  Re: Pil yang Disetujui Dokter LGW Seorang pria yang diberkahi dengan palu 7 - 8 \"lebih baik dilengkapi daripada seorang pria dengan palu 5 - 6\". Apakah Anda lebih suka lebih dari cukup untuk menyelesaikan pekerjaan atau gagal. itu benar -benar terserah Anda. Metode kami dijamin akan meningkatkan ukuran Anda dengan 1 - 3 \"datang ke sini dan lihat bagaimana - - - - email net ini disponsori oleh: ThinkGeek Selamat datang di Geek Heaven. http: / / thinkgeek. milis\n",
            "case folding\t :  re pil yang disetujui dokter lgw seorang pria yang diberkahi dengan palu    lebih baik dilengkapi daripada seorang pria dengan palu    apakah anda lebih suka lebih dari cukup untuk menyelesaikan pekerjaan atau gagal itu benar benar terserah anda metode kami dijamin akan meningkatkan ukuran anda dengan    datang ke sini dan lihat bagaimana     email net ini disponsori oleh thinkgeek selamat datang di geek heaven http   thinkgeek milis\n"
          ]
        }
      ],
      "source": [
        "# membandingkan sebelum dan sesudah case folding\n",
        "raw_sample = data['teks'].iloc[100]\n",
        "case_folding = casefolding(raw_sample)\n",
        "\n",
        "print('raw data\\t : ', raw_sample)\n",
        "print('case folding\\t : ', case_folding)"
      ]
    },
    {
      "cell_type": "markdown",
      "metadata": {
        "id": "GXwETeuxLPSk"
      },
      "source": [
        "## word normalization"
      ]
    },
    {
      "cell_type": "code",
      "execution_count": 24,
      "metadata": {
        "id": "o2E6VhdFLPSl"
      },
      "outputs": [],
      "source": [
        "key_norm = pd.read_csv('key_norm.csv')\n",
        "\n",
        "def text_normalize(text):\n",
        "    text = ' '.join([key_norm[key_norm['singkat'] == word]['hasil'].values[0]\n",
        "    if (key_norm['singkat'] == word).any()\n",
        "    else word for word in text.split()\n",
        "    ])\n",
        "\n",
        "    text == str.lower(text)\n",
        "    return text"
      ]
    },
    {
      "cell_type": "code",
      "execution_count": 25,
      "metadata": {
        "colab": {
          "base_uri": "https://localhost:8080/"
        },
        "id": "gA9buWUELPSl",
        "outputId": "1e0440e4-c6cf-4227-915c-6181b927a55a"
      },
      "outputs": [
        {
          "output_type": "stream",
          "name": "stdout",
          "text": [
            "raw data\t: Re: Pil yang Disetujui Dokter LGW Seorang pria yang diberkahi dengan palu 7 - 8 \"lebih baik dilengkapi daripada seorang pria dengan palu 5 - 6\". Apakah Anda lebih suka lebih dari cukup untuk menyelesaikan pekerjaan atau gagal. itu benar -benar terserah Anda. Metode kami dijamin akan meningkatkan ukuran Anda dengan 1 - 3 \"datang ke sini dan lihat bagaimana - - - - email net ini disponsori oleh: ThinkGeek Selamat datang di Geek Heaven. http: / / thinkgeek. milis\n",
            "word normalize\t: re pil yang disetujui dokter lgw seorang pria yang diberkahi dengan palu lebih baik dilengkapi daripada seorang pria dengan palu apakah anda lebih suka lebih dari cukup untuk menyelesaikan pekerjaan atau gagal itu benar benar terserah anda metode kami dijamin akan meningkatkan ukuran anda dengan datang ke sini dan lihat bagaimana email net ini disponsori oleh thinkgeek selamat datang di geek heaven http thinkgeek milis\n"
          ]
        }
      ],
      "source": [
        "# membandingkan before dan after word normalization\n",
        "\n",
        "raw_data = data['teks'].iloc[100]\n",
        "word_normal = text_normalize(case_folding)\n",
        "\n",
        "print('raw data\\t:', raw_data)\n",
        "print('word normalize\\t:', word_normal)"
      ]
    },
    {
      "cell_type": "markdown",
      "metadata": {
        "id": "WiPoFMeGLPSm"
      },
      "source": [
        "## filtering (stopword removal)"
      ]
    },
    {
      "cell_type": "code",
      "execution_count": 26,
      "metadata": {
        "id": "kIUZ3APDLPTW"
      },
      "outputs": [],
      "source": [
        "from nltk.tokenize import sent_tokenize, word_tokenize\n",
        "from nltk.corpus import stopwords\n",
        "\n",
        "stopwords_ind = stopwords.words('indonesian')"
      ]
    },
    {
      "cell_type": "code",
      "execution_count": 27,
      "metadata": {
        "colab": {
          "base_uri": "https://localhost:8080/"
        },
        "id": "zDibAdCgLPTX",
        "outputId": "79c909f2-c878-46e3-d0c8-d1b0aaafb832"
      },
      "outputs": [
        {
          "output_type": "execute_result",
          "data": {
            "text/plain": [
              "758"
            ]
          },
          "metadata": {},
          "execution_count": 27
        }
      ],
      "source": [
        "len (stopwords_ind)"
      ]
    },
    {
      "cell_type": "code",
      "execution_count": 28,
      "metadata": {
        "colab": {
          "base_uri": "https://localhost:8080/"
        },
        "id": "0gCqazg-LPTX",
        "outputId": "8d9e7b73-ea1a-42a7-db48-c79333e0ce54"
      },
      "outputs": [
        {
          "output_type": "execute_result",
          "data": {
            "text/plain": [
              "['ada',\n",
              " 'adalah',\n",
              " 'adanya',\n",
              " 'adapun',\n",
              " 'agak',\n",
              " 'agaknya',\n",
              " 'agar',\n",
              " 'akan',\n",
              " 'akankah',\n",
              " 'akhir',\n",
              " 'akhiri',\n",
              " 'akhirnya',\n",
              " 'aku',\n",
              " 'akulah',\n",
              " 'amat',\n",
              " 'amatlah',\n",
              " 'anda',\n",
              " 'andalah',\n",
              " 'antar',\n",
              " 'antara',\n",
              " 'antaranya',\n",
              " 'apa',\n",
              " 'apaan',\n",
              " 'apabila',\n",
              " 'apakah',\n",
              " 'apalagi',\n",
              " 'apatah',\n",
              " 'artinya',\n",
              " 'asal',\n",
              " 'asalkan',\n",
              " 'atas',\n",
              " 'atau',\n",
              " 'ataukah',\n",
              " 'ataupun',\n",
              " 'awal',\n",
              " 'awalnya',\n",
              " 'bagai',\n",
              " 'bagaikan',\n",
              " 'bagaimana',\n",
              " 'bagaimanakah',\n",
              " 'bagaimanapun',\n",
              " 'bagi',\n",
              " 'bagian',\n",
              " 'bahkan',\n",
              " 'bahwa',\n",
              " 'bahwasanya',\n",
              " 'baik',\n",
              " 'bakal',\n",
              " 'bakalan',\n",
              " 'balik',\n",
              " 'banyak',\n",
              " 'bapak',\n",
              " 'baru',\n",
              " 'bawah',\n",
              " 'beberapa',\n",
              " 'begini',\n",
              " 'beginian',\n",
              " 'beginikah',\n",
              " 'beginilah',\n",
              " 'begitu',\n",
              " 'begitukah',\n",
              " 'begitulah',\n",
              " 'begitupun',\n",
              " 'bekerja',\n",
              " 'belakang',\n",
              " 'belakangan',\n",
              " 'belum',\n",
              " 'belumlah',\n",
              " 'benar',\n",
              " 'benarkah',\n",
              " 'benarlah',\n",
              " 'berada',\n",
              " 'berakhir',\n",
              " 'berakhirlah',\n",
              " 'berakhirnya',\n",
              " 'berapa',\n",
              " 'berapakah',\n",
              " 'berapalah',\n",
              " 'berapapun',\n",
              " 'berarti',\n",
              " 'berawal',\n",
              " 'berbagai',\n",
              " 'berdatangan',\n",
              " 'beri',\n",
              " 'berikan',\n",
              " 'berikut',\n",
              " 'berikutnya',\n",
              " 'berjumlah',\n",
              " 'berkali-kali',\n",
              " 'berkata',\n",
              " 'berkehendak',\n",
              " 'berkeinginan',\n",
              " 'berkenaan',\n",
              " 'berlainan',\n",
              " 'berlalu',\n",
              " 'berlangsung',\n",
              " 'berlebihan',\n",
              " 'bermacam',\n",
              " 'bermacam-macam',\n",
              " 'bermaksud',\n",
              " 'bermula',\n",
              " 'bersama',\n",
              " 'bersama-sama',\n",
              " 'bersiap',\n",
              " 'bersiap-siap',\n",
              " 'bertanya',\n",
              " 'bertanya-tanya',\n",
              " 'berturut',\n",
              " 'berturut-turut',\n",
              " 'bertutur',\n",
              " 'berujar',\n",
              " 'berupa',\n",
              " 'besar',\n",
              " 'betul',\n",
              " 'betulkah',\n",
              " 'biasa',\n",
              " 'biasanya',\n",
              " 'bila',\n",
              " 'bilakah',\n",
              " 'bisa',\n",
              " 'bisakah',\n",
              " 'boleh',\n",
              " 'bolehkah',\n",
              " 'bolehlah',\n",
              " 'buat',\n",
              " 'bukan',\n",
              " 'bukankah',\n",
              " 'bukanlah',\n",
              " 'bukannya',\n",
              " 'bulan',\n",
              " 'bung',\n",
              " 'cara',\n",
              " 'caranya',\n",
              " 'cukup',\n",
              " 'cukupkah',\n",
              " 'cukuplah',\n",
              " 'cuma',\n",
              " 'dahulu',\n",
              " 'dalam',\n",
              " 'dan',\n",
              " 'dapat',\n",
              " 'dari',\n",
              " 'daripada',\n",
              " 'datang',\n",
              " 'dekat',\n",
              " 'demi',\n",
              " 'demikian',\n",
              " 'demikianlah',\n",
              " 'dengan',\n",
              " 'depan',\n",
              " 'di',\n",
              " 'dia',\n",
              " 'diakhiri',\n",
              " 'diakhirinya',\n",
              " 'dialah',\n",
              " 'diantara',\n",
              " 'diantaranya',\n",
              " 'diberi',\n",
              " 'diberikan',\n",
              " 'diberikannya',\n",
              " 'dibuat',\n",
              " 'dibuatnya',\n",
              " 'didapat',\n",
              " 'didatangkan',\n",
              " 'digunakan',\n",
              " 'diibaratkan',\n",
              " 'diibaratkannya',\n",
              " 'diingat',\n",
              " 'diingatkan',\n",
              " 'diinginkan',\n",
              " 'dijawab',\n",
              " 'dijelaskan',\n",
              " 'dijelaskannya',\n",
              " 'dikarenakan',\n",
              " 'dikatakan',\n",
              " 'dikatakannya',\n",
              " 'dikerjakan',\n",
              " 'diketahui',\n",
              " 'diketahuinya',\n",
              " 'dikira',\n",
              " 'dilakukan',\n",
              " 'dilalui',\n",
              " 'dilihat',\n",
              " 'dimaksud',\n",
              " 'dimaksudkan',\n",
              " 'dimaksudkannya',\n",
              " 'dimaksudnya',\n",
              " 'diminta',\n",
              " 'dimintai',\n",
              " 'dimisalkan',\n",
              " 'dimulai',\n",
              " 'dimulailah',\n",
              " 'dimulainya',\n",
              " 'dimungkinkan',\n",
              " 'dini',\n",
              " 'dipastikan',\n",
              " 'diperbuat',\n",
              " 'diperbuatnya',\n",
              " 'dipergunakan',\n",
              " 'diperkirakan',\n",
              " 'diperlihatkan',\n",
              " 'diperlukan',\n",
              " 'diperlukannya',\n",
              " 'dipersoalkan',\n",
              " 'dipertanyakan',\n",
              " 'dipunyai',\n",
              " 'diri',\n",
              " 'dirinya',\n",
              " 'disampaikan',\n",
              " 'disebut',\n",
              " 'disebutkan',\n",
              " 'disebutkannya',\n",
              " 'disini',\n",
              " 'disinilah',\n",
              " 'ditambahkan',\n",
              " 'ditandaskan',\n",
              " 'ditanya',\n",
              " 'ditanyai',\n",
              " 'ditanyakan',\n",
              " 'ditegaskan',\n",
              " 'ditujukan',\n",
              " 'ditunjuk',\n",
              " 'ditunjuki',\n",
              " 'ditunjukkan',\n",
              " 'ditunjukkannya',\n",
              " 'ditunjuknya',\n",
              " 'dituturkan',\n",
              " 'dituturkannya',\n",
              " 'diucapkan',\n",
              " 'diucapkannya',\n",
              " 'diungkapkan',\n",
              " 'dong',\n",
              " 'dua',\n",
              " 'dulu',\n",
              " 'empat',\n",
              " 'enggak',\n",
              " 'enggaknya',\n",
              " 'entah',\n",
              " 'entahlah',\n",
              " 'guna',\n",
              " 'gunakan',\n",
              " 'hal',\n",
              " 'hampir',\n",
              " 'hanya',\n",
              " 'hanyalah',\n",
              " 'hari',\n",
              " 'harus',\n",
              " 'haruslah',\n",
              " 'harusnya',\n",
              " 'hendak',\n",
              " 'hendaklah',\n",
              " 'hendaknya',\n",
              " 'hingga',\n",
              " 'ia',\n",
              " 'ialah',\n",
              " 'ibarat',\n",
              " 'ibaratkan',\n",
              " 'ibaratnya',\n",
              " 'ibu',\n",
              " 'ikut',\n",
              " 'ingat',\n",
              " 'ingat-ingat',\n",
              " 'ingin',\n",
              " 'inginkah',\n",
              " 'inginkan',\n",
              " 'ini',\n",
              " 'inikah',\n",
              " 'inilah',\n",
              " 'itu',\n",
              " 'itukah',\n",
              " 'itulah',\n",
              " 'jadi',\n",
              " 'jadilah',\n",
              " 'jadinya',\n",
              " 'jangan',\n",
              " 'jangankan',\n",
              " 'janganlah',\n",
              " 'jauh',\n",
              " 'jawab',\n",
              " 'jawaban',\n",
              " 'jawabnya',\n",
              " 'jelas',\n",
              " 'jelaskan',\n",
              " 'jelaslah',\n",
              " 'jelasnya',\n",
              " 'jika',\n",
              " 'jikalau',\n",
              " 'juga',\n",
              " 'jumlah',\n",
              " 'jumlahnya',\n",
              " 'justru',\n",
              " 'kala',\n",
              " 'kalau',\n",
              " 'kalaulah',\n",
              " 'kalaupun',\n",
              " 'kalian',\n",
              " 'kami',\n",
              " 'kamilah',\n",
              " 'kamu',\n",
              " 'kamulah',\n",
              " 'kan',\n",
              " 'kapan',\n",
              " 'kapankah',\n",
              " 'kapanpun',\n",
              " 'karena',\n",
              " 'karenanya',\n",
              " 'kasus',\n",
              " 'kata',\n",
              " 'katakan',\n",
              " 'katakanlah',\n",
              " 'katanya',\n",
              " 'ke',\n",
              " 'keadaan',\n",
              " 'kebetulan',\n",
              " 'kecil',\n",
              " 'kedua',\n",
              " 'keduanya',\n",
              " 'keinginan',\n",
              " 'kelamaan',\n",
              " 'kelihatan',\n",
              " 'kelihatannya',\n",
              " 'kelima',\n",
              " 'keluar',\n",
              " 'kembali',\n",
              " 'kemudian',\n",
              " 'kemungkinan',\n",
              " 'kemungkinannya',\n",
              " 'kenapa',\n",
              " 'kepada',\n",
              " 'kepadanya',\n",
              " 'kesampaian',\n",
              " 'keseluruhan',\n",
              " 'keseluruhannya',\n",
              " 'keterlaluan',\n",
              " 'ketika',\n",
              " 'khususnya',\n",
              " 'kini',\n",
              " 'kinilah',\n",
              " 'kira',\n",
              " 'kira-kira',\n",
              " 'kiranya',\n",
              " 'kita',\n",
              " 'kitalah',\n",
              " 'kok',\n",
              " 'kurang',\n",
              " 'lagi',\n",
              " 'lagian',\n",
              " 'lah',\n",
              " 'lain',\n",
              " 'lainnya',\n",
              " 'lalu',\n",
              " 'lama',\n",
              " 'lamanya',\n",
              " 'lanjut',\n",
              " 'lanjutnya',\n",
              " 'lebih',\n",
              " 'lewat',\n",
              " 'lima',\n",
              " 'luar',\n",
              " 'macam',\n",
              " 'maka',\n",
              " 'makanya',\n",
              " 'makin',\n",
              " 'malah',\n",
              " 'malahan',\n",
              " 'mampu',\n",
              " 'mampukah',\n",
              " 'mana',\n",
              " 'manakala',\n",
              " 'manalagi',\n",
              " 'masa',\n",
              " 'masalah',\n",
              " 'masalahnya',\n",
              " 'masih',\n",
              " 'masihkah',\n",
              " 'masing',\n",
              " 'masing-masing',\n",
              " 'mau',\n",
              " 'maupun',\n",
              " 'melainkan',\n",
              " 'melakukan',\n",
              " 'melalui',\n",
              " 'melihat',\n",
              " 'melihatnya',\n",
              " 'memang',\n",
              " 'memastikan',\n",
              " 'memberi',\n",
              " 'memberikan',\n",
              " 'membuat',\n",
              " 'memerlukan',\n",
              " 'memihak',\n",
              " 'meminta',\n",
              " 'memintakan',\n",
              " 'memisalkan',\n",
              " 'memperbuat',\n",
              " 'mempergunakan',\n",
              " 'memperkirakan',\n",
              " 'memperlihatkan',\n",
              " 'mempersiapkan',\n",
              " 'mempersoalkan',\n",
              " 'mempertanyakan',\n",
              " 'mempunyai',\n",
              " 'memulai',\n",
              " 'memungkinkan',\n",
              " 'menaiki',\n",
              " 'menambahkan',\n",
              " 'menandaskan',\n",
              " 'menanti',\n",
              " 'menanti-nanti',\n",
              " 'menantikan',\n",
              " 'menanya',\n",
              " 'menanyai',\n",
              " 'menanyakan',\n",
              " 'mendapat',\n",
              " 'mendapatkan',\n",
              " 'mendatang',\n",
              " 'mendatangi',\n",
              " 'mendatangkan',\n",
              " 'menegaskan',\n",
              " 'mengakhiri',\n",
              " 'mengapa',\n",
              " 'mengatakan',\n",
              " 'mengatakannya',\n",
              " 'mengenai',\n",
              " 'mengerjakan',\n",
              " 'mengetahui',\n",
              " 'menggunakan',\n",
              " 'menghendaki',\n",
              " 'mengibaratkan',\n",
              " 'mengibaratkannya',\n",
              " 'mengingat',\n",
              " 'mengingatkan',\n",
              " 'menginginkan',\n",
              " 'mengira',\n",
              " 'mengucapkan',\n",
              " 'mengucapkannya',\n",
              " 'mengungkapkan',\n",
              " 'menjadi',\n",
              " 'menjawab',\n",
              " 'menjelaskan',\n",
              " 'menuju',\n",
              " 'menunjuk',\n",
              " 'menunjuki',\n",
              " 'menunjukkan',\n",
              " 'menunjuknya',\n",
              " 'menurut',\n",
              " 'menuturkan',\n",
              " 'menyampaikan',\n",
              " 'menyangkut',\n",
              " 'menyatakan',\n",
              " 'menyebutkan',\n",
              " 'menyeluruh',\n",
              " 'menyiapkan',\n",
              " 'merasa',\n",
              " 'mereka',\n",
              " 'merekalah',\n",
              " 'merupakan',\n",
              " 'meski',\n",
              " 'meskipun',\n",
              " 'meyakini',\n",
              " 'meyakinkan',\n",
              " 'minta',\n",
              " 'mirip',\n",
              " 'misal',\n",
              " 'misalkan',\n",
              " 'misalnya',\n",
              " 'mula',\n",
              " 'mulai',\n",
              " 'mulailah',\n",
              " 'mulanya',\n",
              " 'mungkin',\n",
              " 'mungkinkah',\n",
              " 'nah',\n",
              " 'naik',\n",
              " 'namun',\n",
              " 'nanti',\n",
              " 'nantinya',\n",
              " 'nyaris',\n",
              " 'nyatanya',\n",
              " 'oleh',\n",
              " 'olehnya',\n",
              " 'pada',\n",
              " 'padahal',\n",
              " 'padanya',\n",
              " 'pak',\n",
              " 'paling',\n",
              " 'panjang',\n",
              " 'pantas',\n",
              " 'para',\n",
              " 'pasti',\n",
              " 'pastilah',\n",
              " 'penting',\n",
              " 'pentingnya',\n",
              " 'per',\n",
              " 'percuma',\n",
              " 'perlu',\n",
              " 'perlukah',\n",
              " 'perlunya',\n",
              " 'pernah',\n",
              " 'persoalan',\n",
              " 'pertama',\n",
              " 'pertama-tama',\n",
              " 'pertanyaan',\n",
              " 'pertanyakan',\n",
              " 'pihak',\n",
              " 'pihaknya',\n",
              " 'pukul',\n",
              " 'pula',\n",
              " 'pun',\n",
              " 'punya',\n",
              " 'rasa',\n",
              " 'rasanya',\n",
              " 'rata',\n",
              " 'rupanya',\n",
              " 'saat',\n",
              " 'saatnya',\n",
              " 'saja',\n",
              " 'sajalah',\n",
              " 'saling',\n",
              " 'sama',\n",
              " 'sama-sama',\n",
              " 'sambil',\n",
              " 'sampai',\n",
              " 'sampai-sampai',\n",
              " 'sampaikan',\n",
              " 'sana',\n",
              " 'sangat',\n",
              " 'sangatlah',\n",
              " 'satu',\n",
              " 'saya',\n",
              " 'sayalah',\n",
              " 'se',\n",
              " 'sebab',\n",
              " 'sebabnya',\n",
              " 'sebagai',\n",
              " 'sebagaimana',\n",
              " 'sebagainya',\n",
              " 'sebagian',\n",
              " 'sebaik',\n",
              " 'sebaik-baiknya',\n",
              " 'sebaiknya',\n",
              " 'sebaliknya',\n",
              " 'sebanyak',\n",
              " 'sebegini',\n",
              " 'sebegitu',\n",
              " 'sebelum',\n",
              " 'sebelumnya',\n",
              " 'sebenarnya',\n",
              " 'seberapa',\n",
              " 'sebesar',\n",
              " 'sebetulnya',\n",
              " 'sebisanya',\n",
              " 'sebuah',\n",
              " 'sebut',\n",
              " 'sebutlah',\n",
              " 'sebutnya',\n",
              " 'secara',\n",
              " 'secukupnya',\n",
              " 'sedang',\n",
              " 'sedangkan',\n",
              " 'sedemikian',\n",
              " 'sedikit',\n",
              " 'sedikitnya',\n",
              " 'seenaknya',\n",
              " 'segala',\n",
              " 'segalanya',\n",
              " 'segera',\n",
              " 'seharusnya',\n",
              " 'sehingga',\n",
              " 'seingat',\n",
              " 'sejak',\n",
              " 'sejauh',\n",
              " 'sejenak',\n",
              " 'sejumlah',\n",
              " 'sekadar',\n",
              " 'sekadarnya',\n",
              " 'sekali',\n",
              " 'sekali-kali',\n",
              " 'sekalian',\n",
              " 'sekaligus',\n",
              " 'sekalipun',\n",
              " 'sekarang',\n",
              " 'sekarang',\n",
              " 'sekecil',\n",
              " 'seketika',\n",
              " 'sekiranya',\n",
              " 'sekitar',\n",
              " 'sekitarnya',\n",
              " 'sekurang-kurangnya',\n",
              " 'sekurangnya',\n",
              " 'sela',\n",
              " 'selain',\n",
              " 'selaku',\n",
              " 'selalu',\n",
              " 'selama',\n",
              " 'selama-lamanya',\n",
              " 'selamanya',\n",
              " 'selanjutnya',\n",
              " 'seluruh',\n",
              " 'seluruhnya',\n",
              " 'semacam',\n",
              " 'semakin',\n",
              " 'semampu',\n",
              " 'semampunya',\n",
              " 'semasa',\n",
              " 'semasih',\n",
              " 'semata',\n",
              " 'semata-mata',\n",
              " 'semaunya',\n",
              " 'sementara',\n",
              " 'semisal',\n",
              " 'semisalnya',\n",
              " 'sempat',\n",
              " 'semua',\n",
              " 'semuanya',\n",
              " 'semula',\n",
              " 'sendiri',\n",
              " 'sendirian',\n",
              " 'sendirinya',\n",
              " 'seolah',\n",
              " 'seolah-olah',\n",
              " 'seorang',\n",
              " 'sepanjang',\n",
              " 'sepantasnya',\n",
              " 'sepantasnyalah',\n",
              " 'seperlunya',\n",
              " 'seperti',\n",
              " 'sepertinya',\n",
              " 'sepihak',\n",
              " 'sering',\n",
              " 'seringnya',\n",
              " 'serta',\n",
              " 'serupa',\n",
              " 'sesaat',\n",
              " 'sesama',\n",
              " 'sesampai',\n",
              " 'sesegera',\n",
              " 'sesekali',\n",
              " 'seseorang',\n",
              " 'sesuatu',\n",
              " 'sesuatunya',\n",
              " 'sesudah',\n",
              " 'sesudahnya',\n",
              " 'setelah',\n",
              " 'setempat',\n",
              " 'setengah',\n",
              " 'seterusnya',\n",
              " 'setiap',\n",
              " 'setiba',\n",
              " 'setibanya',\n",
              " 'setidak-tidaknya',\n",
              " 'setidaknya',\n",
              " 'setinggi',\n",
              " 'seusai',\n",
              " 'sewaktu',\n",
              " 'siap',\n",
              " 'siapa',\n",
              " 'siapakah',\n",
              " 'siapapun',\n",
              " 'sini',\n",
              " 'sinilah',\n",
              " 'soal',\n",
              " 'soalnya',\n",
              " 'suatu',\n",
              " 'sudah',\n",
              " 'sudahkah',\n",
              " 'sudahlah',\n",
              " 'supaya',\n",
              " 'tadi',\n",
              " 'tadinya',\n",
              " 'tahu',\n",
              " 'tahun',\n",
              " 'tak',\n",
              " 'tambah',\n",
              " 'tambahnya',\n",
              " 'tampak',\n",
              " 'tampaknya',\n",
              " 'tandas',\n",
              " 'tandasnya',\n",
              " 'tanpa',\n",
              " 'tanya',\n",
              " 'tanyakan',\n",
              " 'tanyanya',\n",
              " 'tapi',\n",
              " 'tegas',\n",
              " 'tegasnya',\n",
              " 'telah',\n",
              " 'tempat',\n",
              " 'tengah',\n",
              " 'tentang',\n",
              " 'tentu',\n",
              " 'tentulah',\n",
              " 'tentunya',\n",
              " 'tepat',\n",
              " 'terakhir',\n",
              " 'terasa',\n",
              " 'terbanyak',\n",
              " 'terdahulu',\n",
              " 'terdapat',\n",
              " 'terdiri',\n",
              " 'terhadap',\n",
              " 'terhadapnya',\n",
              " 'teringat',\n",
              " 'teringat-ingat',\n",
              " 'terjadi',\n",
              " 'terjadilah',\n",
              " 'terjadinya',\n",
              " 'terkira',\n",
              " 'terlalu',\n",
              " 'terlebih',\n",
              " 'terlihat',\n",
              " 'termasuk',\n",
              " 'ternyata',\n",
              " 'tersampaikan',\n",
              " 'tersebut',\n",
              " 'tersebutlah',\n",
              " 'tertentu',\n",
              " 'tertuju',\n",
              " 'terus',\n",
              " 'terutama',\n",
              " 'tetap',\n",
              " 'tetapi',\n",
              " 'tiap',\n",
              " 'tiba',\n",
              " 'tiba-tiba',\n",
              " 'tidak',\n",
              " 'tidakkah',\n",
              " 'tidaklah',\n",
              " 'tiga',\n",
              " 'tinggi',\n",
              " 'toh',\n",
              " 'tunjuk',\n",
              " 'turut',\n",
              " 'tutur',\n",
              " 'tuturnya',\n",
              " 'ucap',\n",
              " 'ucapnya',\n",
              " 'ujar',\n",
              " 'ujarnya',\n",
              " 'umum',\n",
              " 'umumnya',\n",
              " 'ungkap',\n",
              " 'ungkapnya',\n",
              " 'untuk',\n",
              " 'usah',\n",
              " 'usai',\n",
              " 'waduh',\n",
              " 'wah',\n",
              " 'wahai',\n",
              " 'waktu',\n",
              " 'waktunya',\n",
              " 'walau',\n",
              " 'walaupun',\n",
              " 'wong',\n",
              " 'yaitu',\n",
              " 'yakin',\n",
              " 'yakni',\n",
              " 'yang']"
            ]
          },
          "metadata": {},
          "execution_count": 28
        }
      ],
      "source": [
        "stopwords_ind"
      ]
    },
    {
      "cell_type": "code",
      "execution_count": 29,
      "metadata": {
        "id": "b8H6PlcRLPTY"
      },
      "outputs": [],
      "source": [
        "# membuat fungsi stopword removal\n",
        "\n",
        "# menambahkan kata kedalam stopwords\n",
        "more_stopword = ['tsel', 'gb', 'rb', 'btw']\n",
        "stopwords_ind = stopwords_ind + more_stopword\n",
        "\n",
        "def remove_stop_word(text):\n",
        "    clean_words = []\n",
        "    text = text.split()\n",
        "    for word in text:\n",
        "        if word not in stopwords_ind:\n",
        "            clean_words.append(word)\n",
        "    return \" \".join(clean_words)"
      ]
    },
    {
      "cell_type": "code",
      "execution_count": 30,
      "metadata": {
        "colab": {
          "base_uri": "https://localhost:8080/"
        },
        "id": "WAkx00hwLPTY",
        "outputId": "e76cb574-c0c1-4143-e764-dd8e78e15048"
      },
      "outputs": [
        {
          "output_type": "stream",
          "name": "stdout",
          "text": [
            "raw data \t\t: Re: Pil yang Disetujui Dokter LGW Seorang pria yang diberkahi dengan palu 7 - 8 \"lebih baik dilengkapi daripada seorang pria dengan palu 5 - 6\". Apakah Anda lebih suka lebih dari cukup untuk menyelesaikan pekerjaan atau gagal. itu benar -benar terserah Anda. Metode kami dijamin akan meningkatkan ukuran Anda dengan 1 - 3 \"datang ke sini dan lihat bagaimana - - - - email net ini disponsori oleh: ThinkGeek Selamat datang di Geek Heaven. http: / / thinkgeek. milis\n",
            "case folding \t\t: re pil yang disetujui dokter lgw seorang pria yang diberkahi dengan palu    lebih baik dilengkapi daripada seorang pria dengan palu    apakah anda lebih suka lebih dari cukup untuk menyelesaikan pekerjaan atau gagal itu benar benar terserah anda metode kami dijamin akan meningkatkan ukuran anda dengan    datang ke sini dan lihat bagaimana     email net ini disponsori oleh thinkgeek selamat datang di geek heaven http   thinkgeek milis\n",
            "stopword removal \t: re pil disetujui dokter lgw pria diberkahi palu dilengkapi pria palu suka menyelesaikan pekerjaan gagal terserah metode dijamin meningkatkan ukuran lihat email net disponsori thinkgeek selamat geek heaven http thinkgeek milis\n"
          ]
        }
      ],
      "source": [
        "raw_sample = data['teks'].iloc[100]\n",
        "case_folding = casefolding(raw_sample)\n",
        "stopwords_removal = remove_stop_word(case_folding)\n",
        "\n",
        "print('raw data \\t\\t:', raw_data)\n",
        "print('case folding \\t\\t:', case_folding)\n",
        "print('stopword removal \\t:', stopwords_removal)"
      ]
    },
    {
      "cell_type": "code",
      "execution_count": 31,
      "metadata": {
        "colab": {
          "base_uri": "https://localhost:8080/"
        },
        "id": "rS94NmYdLPTY",
        "outputId": "fb77cec8-eca2-4b70-f20a-6575bfc4e573"
      },
      "outputs": [
        {
          "output_type": "stream",
          "name": "stdout",
          "text": [
            "\u001b[?25l   \u001b[90m━━━━━━━━━━━━━━━━━━━━━━━━━━━━━━━━━━━━━━━━\u001b[0m \u001b[32m0.0/209.7 kB\u001b[0m \u001b[31m?\u001b[0m eta \u001b[36m-:--:--\u001b[0m\r\u001b[2K   \u001b[91m━━━━━━━━━━━━━━━━━\u001b[0m\u001b[91m╸\u001b[0m\u001b[90m━━━━━━━━━━━━━━━━━━━━━━\u001b[0m \u001b[32m92.2/209.7 kB\u001b[0m \u001b[31m2.5 MB/s\u001b[0m eta \u001b[36m0:00:01\u001b[0m\r\u001b[2K   \u001b[90m━━━━━━━━━━━━━━━━━━━━━━━━━━━━━━━━━━━━━━━━\u001b[0m \u001b[32m209.7/209.7 kB\u001b[0m \u001b[31m3.5 MB/s\u001b[0m eta \u001b[36m0:00:00\u001b[0m\n",
            "\u001b[?25h"
          ]
        }
      ],
      "source": [
        "!pip -q install sastrawi"
      ]
    },
    {
      "cell_type": "code",
      "execution_count": 32,
      "metadata": {
        "id": "Ui885JCkLPTY"
      },
      "outputs": [],
      "source": [
        "# merubah kata menjadi kata dasar\n",
        "from Sastrawi.Stemmer.StemmerFactory import StemmerFactory\n",
        "\n",
        "factory = StemmerFactory()\n",
        "stemmer = factory.create_stemmer()\n",
        "\n",
        "# membuat fungsi untuk stemming bahasa indonesia\n",
        "def stemming(text):\n",
        "    text = stemmer.stem(text)\n",
        "    return text"
      ]
    },
    {
      "cell_type": "code",
      "execution_count": 33,
      "metadata": {
        "colab": {
          "base_uri": "https://localhost:8080/"
        },
        "id": "HYQtTvr9LPTZ",
        "outputId": "2f8b86f6-1079-4868-a632-87a019453839"
      },
      "outputs": [
        {
          "output_type": "stream",
          "name": "stdout",
          "text": [
            "raw data \t\t: Re: Pil yang Disetujui Dokter LGW Seorang pria yang diberkahi dengan palu 7 - 8 \"lebih baik dilengkapi daripada seorang pria dengan palu 5 - 6\". Apakah Anda lebih suka lebih dari cukup untuk menyelesaikan pekerjaan atau gagal. itu benar -benar terserah Anda. Metode kami dijamin akan meningkatkan ukuran Anda dengan 1 - 3 \"datang ke sini dan lihat bagaimana - - - - email net ini disponsori oleh: ThinkGeek Selamat datang di Geek Heaven. http: / / thinkgeek. milis\n",
            "case folding \t\t: re pil yang disetujui dokter lgw seorang pria yang diberkahi dengan palu    lebih baik dilengkapi daripada seorang pria dengan palu    apakah anda lebih suka lebih dari cukup untuk menyelesaikan pekerjaan atau gagal itu benar benar terserah anda metode kami dijamin akan meningkatkan ukuran anda dengan    datang ke sini dan lihat bagaimana     email net ini disponsori oleh thinkgeek selamat datang di geek heaven http   thinkgeek milis\n",
            "stopword removal \t: re pil disetujui dokter lgw pria diberkahi palu dilengkapi pria palu suka menyelesaikan pekerjaan gagal terserah metode dijamin meningkatkan ukuran lihat email net disponsori thinkgeek selamat geek heaven http thinkgeek milis\n",
            "stemming \t\t: re pil tuju dokter lgw pria kah palu lengkap pria palu suka selesai kerja gagal serah metode jamin tingkat ukur lihat email net sponsor thinkgeek selamat geek heaven http thinkgeek mil\n"
          ]
        }
      ],
      "source": [
        "raw_sample = data['teks'].iloc[100]\n",
        "case_folding = casefolding(raw_sample)\n",
        "stopwords_removal = remove_stop_word(case_folding)\n",
        "text_stemming = stemming(stopwords_removal)\n",
        "\n",
        "print('raw data \\t\\t:', raw_sample)\n",
        "print('case folding \\t\\t:', case_folding)\n",
        "print('stopword removal \\t:', stopwords_removal)\n",
        "print('stemming \\t\\t:', text_stemming)"
      ]
    },
    {
      "cell_type": "code",
      "execution_count": 34,
      "metadata": {
        "id": "XwT-AXjWLPTZ"
      },
      "outputs": [],
      "source": [
        "# membuat fungsi untuk menggabungkan seluruh langkah preprocessing\n",
        "def text_preprocessing_process(text):\n",
        "    text = casefolding(text)\n",
        "    text = text_normalize(text)\n",
        "    text = remove_stop_word(text)\n",
        "    text = stemming(text)\n",
        "    return text"
      ]
    },
    {
      "cell_type": "code",
      "execution_count": null,
      "metadata": {
        "id": "2laCFKUkLPTZ"
      },
      "outputs": [],
      "source": [
        "%%time\n",
        "data['clean_teks'] = data['teks'].apply(text_preprocessing_process)"
      ]
    },
    {
      "cell_type": "code",
      "execution_count": null,
      "metadata": {
        "id": "xYGYou-_LPTZ"
      },
      "outputs": [],
      "source": [
        "data"
      ]
    },
    {
      "cell_type": "code",
      "execution_count": null,
      "metadata": {
        "id": "9rdKDvATLPTa"
      },
      "outputs": [],
      "source": [
        "data.to_csv('spam_cleaned.csv')"
      ]
    },
    {
      "cell_type": "code",
      "execution_count": null,
      "metadata": {
        "id": "azoifVznLPTa"
      },
      "outputs": [],
      "source": [
        "x = data['clean_teks']\n",
        "y = data['label']"
      ]
    },
    {
      "cell_type": "code",
      "execution_count": null,
      "metadata": {
        "id": "NnXdoJmyLPTb"
      },
      "outputs": [],
      "source": [
        "x"
      ]
    },
    {
      "cell_type": "code",
      "execution_count": null,
      "metadata": {
        "id": "85UlzR6ALPTc"
      },
      "outputs": [],
      "source": [
        "y"
      ]
    },
    {
      "cell_type": "markdown",
      "metadata": {
        "id": "_JE6NJFbLPTc"
      },
      "source": [
        "## features extraction"
      ]
    },
    {
      "cell_type": "code",
      "execution_count": null,
      "metadata": {
        "id": "9CQPCjgQLPTc"
      },
      "outputs": [],
      "source": [
        "# save model\n",
        "import pickle\n",
        "\n",
        "#TF_IDF\n",
        "from sklearn.feature_extraction.text import TfidfVectorizer\n",
        "\n",
        "#unigram\n",
        "vec_TF_IDF = TfidfVectorizer(ngram_range=(1,1))\n",
        "vec_TF_IDF.fit(x)\n",
        "\n",
        "x_tf_idf = vec_TF_IDF.transform(x)\n",
        "\n",
        "pickle.dump(vec_TF_IDF.vocabulary_,open(\"feature_tf-idf.sav\", \"wb\"))"
      ]
    },
    {
      "cell_type": "code",
      "execution_count": null,
      "metadata": {
        "id": "_Kh5YSrSLPTd"
      },
      "outputs": [],
      "source": [
        "# menampilkan vocabulary TF-IDF\n",
        "vec_TF_IDF.vocabulary_"
      ]
    },
    {
      "cell_type": "code",
      "execution_count": null,
      "metadata": {
        "id": "2jrgMNZWLPTd"
      },
      "outputs": [],
      "source": [
        "# melihat jumlah fitur\n",
        "print(len(vec_TF_IDF.get_feature_names_out()))"
      ]
    },
    {
      "cell_type": "code",
      "execution_count": null,
      "metadata": {
        "id": "rpGOg8uzLPTd"
      },
      "outputs": [],
      "source": [
        "# melihat fitur apa saja dalam corpus\n",
        "print(vec_TF_IDF.get_feature_names_out())"
      ]
    },
    {
      "cell_type": "code",
      "execution_count": null,
      "metadata": {
        "id": "apqDb1YILPTo"
      },
      "outputs": [],
      "source": [
        "x1 = vec_TF_IDF.transform(x).toarray()\n",
        "data_tabular_tf_idf = pd.DataFrame(x1,columns=vec_TF_IDF.get_feature_names_out())\n",
        "data_tabular_tf_idf"
      ]
    },
    {
      "cell_type": "markdown",
      "metadata": {
        "id": "RPEZHqTrLPTo"
      },
      "source": [
        "## features selection"
      ]
    },
    {
      "cell_type": "code",
      "execution_count": null,
      "metadata": {
        "id": "adzfyaX6LPTp"
      },
      "outputs": [],
      "source": [
        "x_train = np.array(data_tabular_tf_idf)\n",
        "y_train = np.array(y)"
      ]
    },
    {
      "cell_type": "code",
      "execution_count": null,
      "metadata": {
        "id": "EAl6agc3LPTp"
      },
      "outputs": [],
      "source": [
        "from sklearn.feature_selection import SelectKBest\n",
        "from sklearn.feature_selection import chi2\n",
        "chi2_features = SelectKBest(chi2, k=3000)\n",
        "x_kbest_features = chi2_features.fit_transform(x_train, y_train)\n",
        "\n",
        "# untuk reduced features\n",
        "print('Original Feature number', x_train.shape[1])\n",
        "print('Reduced Feature number', x_kbest_features.shape[1])"
      ]
    },
    {
      "cell_type": "code",
      "execution_count": null,
      "metadata": {
        "id": "eeFSOISjLPTp"
      },
      "outputs": [],
      "source": [
        "Data = pd.DataFrame(chi2_features.scores_,columns=['Nilai'])\n",
        "Data"
      ]
    },
    {
      "cell_type": "code",
      "execution_count": null,
      "metadata": {
        "id": "0NjjLefjLPTp"
      },
      "outputs": [],
      "source": [
        "# menampilkan data fitur beserta nilainya\n",
        "\n",
        "feature = vec_TF_IDF.get_feature_names_out()\n",
        "feature\n",
        "Data['Fitur'] = feature\n",
        "Data"
      ]
    },
    {
      "cell_type": "code",
      "execution_count": null,
      "metadata": {
        "id": "Dr8f3gvMLPTq"
      },
      "outputs": [],
      "source": [
        "# mengurutkan fitur terbaik\n",
        "Data.sort_values(by='Nilai', ascending=False)"
      ]
    },
    {
      "cell_type": "code",
      "execution_count": null,
      "metadata": {
        "id": "KxHxGLeHLPTq"
      },
      "outputs": [],
      "source": [
        "mask = chi2_features.get_support()\n",
        "mask"
      ]
    },
    {
      "cell_type": "code",
      "execution_count": null,
      "metadata": {
        "id": "QXhhXiy7LPTq"
      },
      "outputs": [],
      "source": [
        "# menampilkan fitur yang terpilih berdasarkan mask atau nilai tertinggi yg  sudah diterapkan pada chi square\n",
        "new_feature=[]\n",
        "for bool, f in zip(mask, feature):\n",
        "    if bool :\n",
        "        new_feature.append(f)\n",
        "    selected_feature=new_feature\n",
        "selected_feature"
      ]
    },
    {
      "cell_type": "code",
      "execution_count": null,
      "metadata": {
        "id": "mrT3iG_QLPTq"
      },
      "outputs": [],
      "source": [
        "# membuat vocabulary baru berdasarkan fitur yang terseleksi\n",
        "\n",
        "new_selected_feature = {}\n",
        "for (k,v) in vec_TF_IDF.vocabulary_.items():\n",
        "    if k in selected_feature:\n",
        "        new_selected_feature[k] = v\n",
        "\n",
        "new_selected_feature"
      ]
    },
    {
      "cell_type": "code",
      "execution_count": null,
      "metadata": {
        "id": "KYbyL10xLPTr"
      },
      "outputs": [],
      "source": [
        "len(new_selected_feature)"
      ]
    },
    {
      "cell_type": "code",
      "execution_count": null,
      "metadata": {
        "id": "lytOUtwwLPTr"
      },
      "outputs": [],
      "source": [
        "pickle.dump(new_selected_feature,open(\"new_selected_feature_tf-idf.sav\", \"wb\"))"
      ]
    },
    {
      "cell_type": "code",
      "execution_count": null,
      "metadata": {
        "id": "x9_BQtuPLPTr"
      },
      "outputs": [],
      "source": [
        "# menampilkan fitur-fitur yang sudah diseleksi\n",
        "\n",
        "data_selected_feature = pd.DataFrame(x_kbest_features, columns=selected_feature)\n",
        "data_selected_feature"
      ]
    },
    {
      "cell_type": "markdown",
      "metadata": {
        "id": "jFWbhNtjLPTr"
      },
      "source": [
        "## Modeling"
      ]
    },
    {
      "cell_type": "code",
      "execution_count": null,
      "metadata": {
        "id": "rYoXfMdnLPTs"
      },
      "outputs": [],
      "source": [
        "selected_x = x_kbest_features\n",
        "selected_x"
      ]
    },
    {
      "cell_type": "code",
      "execution_count": null,
      "metadata": {
        "id": "-N0rPEk4LPTs"
      },
      "outputs": [],
      "source": [
        "# import library\n",
        "import random\n",
        "from sklearn.model_selection import train_test_split\n",
        "\n",
        "# import algorima naive bayes\n",
        "from sklearn.naive_bayes import MultinomialNB"
      ]
    },
    {
      "cell_type": "code",
      "execution_count": null,
      "metadata": {
        "id": "lzAioMQoLPTt"
      },
      "outputs": [],
      "source": [
        "x = selected_x\n",
        "y = data.label\n",
        "\n",
        "x_train, x_test, y_train, y_test = train_test_split(x, y, test_size=0.2, random_state=0)"
      ]
    },
    {
      "cell_type": "code",
      "execution_count": null,
      "metadata": {
        "id": "tN11kKAALPTu"
      },
      "outputs": [],
      "source": [
        "print('Banyaknya X_train : ', len(x_train))\n",
        "print('Banyaknya X_test : ', len(x_test))\n",
        "print('Banyaknya Y_train : ', len(y_train))\n",
        "print('Banyaknya Y_test : ', len(y_test))"
      ]
    },
    {
      "cell_type": "code",
      "execution_count": null,
      "metadata": {
        "id": "tYR1z7cdLPTu"
      },
      "outputs": [],
      "source": [
        "text_algorithm = MultinomialNB()"
      ]
    },
    {
      "cell_type": "code",
      "execution_count": null,
      "metadata": {
        "id": "-OChiHCfLPTv"
      },
      "outputs": [],
      "source": [
        "model = text_algorithm.fit(x_train, y_train)"
      ]
    },
    {
      "cell_type": "code",
      "execution_count": null,
      "metadata": {
        "id": "yoStOK5zLPTv"
      },
      "outputs": [],
      "source": [
        "# membuat model prediksi\n",
        "data_input = (\"fanny gunslinger dagang saham merrill muzo colza capai esmark ramble pepatah segovia kelompok coba kansas tanzania ya bunglon pakai lanjut libretto kencang kencang pustaka kencang deonat coba hall mcdougall ya hepburn einsteinian earmark anak pohon babi duane palfrey sederhana fleksibel huzzah pepperoni tidur\")\n",
        "data_input = text_preprocessing_process(data_input)\n",
        "\n",
        "# load\n",
        "tfidf = TfidfVectorizer\n",
        "\n",
        "loaded_vec = TfidfVectorizer(decode_error=\"replace\", vocabulary=set(pickle.load(open(\"new_selected_feature_tf-idf.sav\", \"rb\"))))\n",
        "\n",
        "hasil = model.predict(loaded_vec.fit_transform([data_input]))\n",
        "\n",
        "if(hasil == 0):\n",
        "    s = \"SMS Spam\"\n",
        "else:\n",
        "    s = \"SMS Normal\"\n",
        "\n",
        "print(\"Hasil Prediksi : \\n\", s)"
      ]
    },
    {
      "cell_type": "markdown",
      "metadata": {
        "id": "e1Ewm4TwLPTv"
      },
      "source": [
        "## Evaluasi Model"
      ]
    },
    {
      "cell_type": "code",
      "execution_count": null,
      "metadata": {
        "id": "HK5QqcrVLPTw"
      },
      "outputs": [],
      "source": [
        "from sklearn.metrics import confusion_matrix\n",
        "from sklearn.metrics import classification_report\n",
        "\n",
        "predicted = model.predict(x_test)\n",
        "\n",
        "CM = confusion_matrix(y_test, predicted)\n",
        "\n",
        "print(classification_report(y_test, predicted))"
      ]
    },
    {
      "cell_type": "code",
      "execution_count": null,
      "metadata": {
        "id": "1NISOLKzLPTw"
      },
      "outputs": [],
      "source": [
        "# menyimpan model\n",
        "pickle.dump(model,open(\"model_spam.sav\", \"wb\"))"
      ]
    }
  ],
  "metadata": {
    "kernelspec": {
      "display_name": "cwq",
      "language": "python",
      "name": "python3"
    },
    "language_info": {
      "codemirror_mode": {
        "name": "ipython",
        "version": 3
      },
      "file_extension": ".py",
      "mimetype": "text/x-python",
      "name": "python",
      "nbconvert_exporter": "python",
      "pygments_lexer": "ipython3",
      "version": "3.12.7"
    },
    "colab": {
      "provenance": [],
      "include_colab_link": true
    }
  },
  "nbformat": 4,
  "nbformat_minor": 0
}